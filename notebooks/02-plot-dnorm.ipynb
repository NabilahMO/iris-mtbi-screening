{
 "cells": [
  {
   "cell_type": "code",
   "execution_count": 19,
   "id": "c31b4b5b",
   "metadata": {},
   "outputs": [],
   "source": [
    "import sys\n",
    "import os\n",
    "\n",
    "# Add the src/ folder to Python's import path\n",
    "src_path = os.path.abspath(os.path.join(\"..\", \"src\"))\n",
    "if src_path not in sys.path:\n",
    "    sys.path.append(src_path)\n",
    "    "
   ]
  },
  {
   "cell_type": "code",
   "execution_count": 20,
   "id": "5eb3893f",
   "metadata": {},
   "outputs": [],
   "source": [
    "from features import (\n",
    "    compute_inter_iris_distance,\n",
    "    compute_average_diameter,\n",
    "    normalise_distance,\n",
    "    compute_time_series_std\n",
    ")"
   ]
  },
  {
   "cell_type": "code",
   "execution_count": null,
   "id": "decb273f",
   "metadata": {},
   "outputs": [],
   "source": []
  },
  {
   "cell_type": "code",
   "execution_count": 21,
   "id": "fe031f25",
   "metadata": {},
   "outputs": [],
   "source": [
    "import pandas as pd\n",
    "import numpy as np\n",
    "import matplotlib.pyplot as plt"
   ]
  },
  {
   "cell_type": "code",
   "execution_count": 22,
   "id": "a443ca15",
   "metadata": {},
   "outputs": [],
   "source": [
    "def process_dnorm(filepath):\n",
    "    df = pd.read_csv(filepath)"
   ]
  },
  {
   "cell_type": "code",
   "execution_count": 23,
   "id": "f5e343ef",
   "metadata": {},
   "outputs": [],
   "source": [
    "def process_dnorm(filepath):\n",
    "    df = pd.read_csv(filepath)\n",
    "    norm_distances = []\n",
    "\n",
    "    for _, row in df.iterrows():\n",
    "        try:\n",
    "            left_mid = (row[\"left_mid_x\"], row[\"left_mid_y\"])\n",
    "            right_mid = (row[\"right_mid_x\"], row[\"right_mid_y\"])\n",
    "            left_inner = (row[\"left_inner_x\"], row[\"left_inner_y\"])\n",
    "            left_outer = (row[\"left_outer_x\"], row[\"left_outer_y\"])\n",
    "            right_inner = (row[\"right_inner_x\"], row[\"right_inner_y\"])\n",
    "            right_outer = (row[\"right_outer_x\"], row[\"right_outer_y\"])\n",
    "\n",
    "            inter = compute_inter_iris_distance(left_mid, right_mid)\n",
    "            avg_diameter = compute_average_diameter(left_inner, left_outer, right_inner, right_outer)\n",
    "            norm = normalise_distance(inter, avg_diameter)\n",
    "\n",
    "            if norm is not None:\n",
    "                norm_distances.append(norm)\n",
    "        except:\n",
    "            continue  # skip rows with bad data\n",
    "\n",
    "    return norm_distances"
   ]
  },
  {
   "cell_type": "code",
   "execution_count": 24,
   "id": "69078bc9",
   "metadata": {},
   "outputs": [
    {
     "name": "stdout",
     "output_type": "stream",
     "text": [
      "Standard Deviation: 0.0115\n"
     ]
    }
   ],
   "source": [
    "norms = process_dnorm(\"data/raw/control_sample.csv\")\n",
    "std_dev = compute_time_series_std(norms)\n",
    "\n",
    "print(f\"Standard Deviation: {std_dev:.4f}\")"
   ]
  }
 ],
 "metadata": {
  "kernelspec": {
   "display_name": "Python 3",
   "language": "python",
   "name": "python3"
  },
  "language_info": {
   "codemirror_mode": {
    "name": "ipython",
    "version": 3
   },
   "file_extension": ".py",
   "mimetype": "text/x-python",
   "name": "python",
   "nbconvert_exporter": "python",
   "pygments_lexer": "ipython3",
   "version": "3.12.1"
  }
 },
 "nbformat": 4,
 "nbformat_minor": 5
}
