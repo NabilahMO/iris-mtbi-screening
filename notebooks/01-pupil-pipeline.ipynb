{
 "cells": [
  {
   "cell_type": "code",
   "execution_count": 7,
   "id": "025771d9",
   "metadata": {},
   "outputs": [
    {
     "name": "stdout",
     "output_type": "stream",
     "text": [
      "Saved simulated mtbi data as 'mtbi_sample_{i}.csv' in 'data/raw/split/'\n",
      "Saved simulated control data as 'control_sample_{i}.csv' in 'data/raw/split/'\n"
     ]
    }
   ],
   "source": [
    "import sys\n",
    "import os\n",
    "\n",
    "src_path = os.path.abspath(os.path.join(\"..\", \"src\"))\n",
    "if src_path not in sys.path:\n",
    "    sys.path.append(src_path)\n",
    "\n",
    "\n",
    "from preprocess import generate_fake_landmark_data\n",
    "\n",
    "generate_fake_landmark_data(num_samples=150, noise_level=0.5, label=\"mtbi\")\n",
    "generate_fake_landmark_data(num_samples=150, noise_level=0.1, label=\"control\")"
   ]
  },
  {
   "cell_type": "code",
   "execution_count": 8,
   "id": "090ba7d5",
   "metadata": {},
   "outputs": [],
   "source": [
    "from features import (\n",
    "    compute_inter_iris_distance,\n",
    "    compute_average_diameter,\n",
    "    normalise_distance,\n",
    "    compute_time_series_std,\n",
    "    flag_mTBI\n",
    ")"
   ]
  },
  {
   "cell_type": "code",
   "execution_count": 9,
   "id": "f44db8cc",
   "metadata": {},
   "outputs": [
    {
     "data": {
      "application/vnd.microsoft.datawrangler.viewer.v0+json": {
       "columns": [
        {
         "name": "index",
         "rawType": "int64",
         "type": "integer"
        },
        {
         "name": "left_mid_x",
         "rawType": "float64",
         "type": "float"
        },
        {
         "name": "left_mid_y",
         "rawType": "float64",
         "type": "float"
        },
        {
         "name": "left_inner_x",
         "rawType": "float64",
         "type": "float"
        },
        {
         "name": "left_inner_y",
         "rawType": "float64",
         "type": "float"
        },
        {
         "name": "left_outer_x",
         "rawType": "float64",
         "type": "float"
        },
        {
         "name": "left_outer_y",
         "rawType": "float64",
         "type": "float"
        },
        {
         "name": "right_mid_x",
         "rawType": "float64",
         "type": "float"
        },
        {
         "name": "right_mid_y",
         "rawType": "float64",
         "type": "float"
        },
        {
         "name": "right_inner_x",
         "rawType": "float64",
         "type": "float"
        },
        {
         "name": "right_inner_y",
         "rawType": "float64",
         "type": "float"
        },
        {
         "name": "right_outer_x",
         "rawType": "float64",
         "type": "float"
        },
        {
         "name": "right_outer_y",
         "rawType": "float64",
         "type": "float"
        }
       ],
       "ref": "894b5809-05ae-42a2-917d-0712dd1e3539",
       "rows": [
        [
         "0",
         "100.07416377274328",
         "99.75200792217788",
         "95.1639489759166",
         "99.75200792217788",
         "104.909681832003",
         "99.75200792217788",
         "110.01577189219417",
         "99.86944642400498",
         "104.91479508135856",
         "99.86944642400498",
         "115.25558184432032",
         "99.86944642400498"
        ],
        [
         "1",
         "99.91056531904016",
         "99.93178124343814",
         "95.0681068702884",
         "99.93178124343814",
         "104.81870176453224",
         "99.93178124343814",
         "109.92595084367125",
         "100.11142270000784",
         "105.0165207112387",
         "100.11142270000784",
         "115.04839083199612",
         "100.11142270000784"
        ],
        [
         "2",
         "100.06009065074302",
         "100.13797025339755",
         "94.96122976862948",
         "100.13797025339755",
         "105.02317374189646",
         "100.13797025339755",
         "109.9758930618993",
         "100.1003473190006",
         "104.86824322015372",
         "100.1003473190006",
         "115.02955165176384",
         "100.1003473190006"
        ],
        [
         "3",
         "99.90318003207835",
         "100.12841248647852",
         "94.83755957472948",
         "100.12841248647852",
         "105.03066261769489",
         "100.12841248647852",
         "110.10114592877753",
         "99.98858742166554",
         "105.26512313704228",
         "99.98858742166554",
         "115.07308669354184",
         "99.98858742166554"
        ],
        [
         "4",
         "100.17069970293348",
         "99.90642126480766",
         "95.31236394573018",
         "99.90642126480766",
         "105.12563323226506",
         "99.90642126480766",
         "110.17866843823072",
         "99.75532580755603",
         "105.18972600768151",
         "99.75532580755603",
         "114.99636600393296",
         "99.75532580755603"
        ]
       ],
       "shape": {
        "columns": 12,
        "rows": 5
       }
      },
      "text/html": [
       "<div>\n",
       "<style scoped>\n",
       "    .dataframe tbody tr th:only-of-type {\n",
       "        vertical-align: middle;\n",
       "    }\n",
       "\n",
       "    .dataframe tbody tr th {\n",
       "        vertical-align: top;\n",
       "    }\n",
       "\n",
       "    .dataframe thead th {\n",
       "        text-align: right;\n",
       "    }\n",
       "</style>\n",
       "<table border=\"1\" class=\"dataframe\">\n",
       "  <thead>\n",
       "    <tr style=\"text-align: right;\">\n",
       "      <th></th>\n",
       "      <th>left_mid_x</th>\n",
       "      <th>left_mid_y</th>\n",
       "      <th>left_inner_x</th>\n",
       "      <th>left_inner_y</th>\n",
       "      <th>left_outer_x</th>\n",
       "      <th>left_outer_y</th>\n",
       "      <th>right_mid_x</th>\n",
       "      <th>right_mid_y</th>\n",
       "      <th>right_inner_x</th>\n",
       "      <th>right_inner_y</th>\n",
       "      <th>right_outer_x</th>\n",
       "      <th>right_outer_y</th>\n",
       "    </tr>\n",
       "  </thead>\n",
       "  <tbody>\n",
       "    <tr>\n",
       "      <th>0</th>\n",
       "      <td>100.074164</td>\n",
       "      <td>99.752008</td>\n",
       "      <td>95.163949</td>\n",
       "      <td>99.752008</td>\n",
       "      <td>104.909682</td>\n",
       "      <td>99.752008</td>\n",
       "      <td>110.015772</td>\n",
       "      <td>99.869446</td>\n",
       "      <td>104.914795</td>\n",
       "      <td>99.869446</td>\n",
       "      <td>115.255582</td>\n",
       "      <td>99.869446</td>\n",
       "    </tr>\n",
       "    <tr>\n",
       "      <th>1</th>\n",
       "      <td>99.910565</td>\n",
       "      <td>99.931781</td>\n",
       "      <td>95.068107</td>\n",
       "      <td>99.931781</td>\n",
       "      <td>104.818702</td>\n",
       "      <td>99.931781</td>\n",
       "      <td>109.925951</td>\n",
       "      <td>100.111423</td>\n",
       "      <td>105.016521</td>\n",
       "      <td>100.111423</td>\n",
       "      <td>115.048391</td>\n",
       "      <td>100.111423</td>\n",
       "    </tr>\n",
       "    <tr>\n",
       "      <th>2</th>\n",
       "      <td>100.060091</td>\n",
       "      <td>100.137970</td>\n",
       "      <td>94.961230</td>\n",
       "      <td>100.137970</td>\n",
       "      <td>105.023174</td>\n",
       "      <td>100.137970</td>\n",
       "      <td>109.975893</td>\n",
       "      <td>100.100347</td>\n",
       "      <td>104.868243</td>\n",
       "      <td>100.100347</td>\n",
       "      <td>115.029552</td>\n",
       "      <td>100.100347</td>\n",
       "    </tr>\n",
       "    <tr>\n",
       "      <th>3</th>\n",
       "      <td>99.903180</td>\n",
       "      <td>100.128412</td>\n",
       "      <td>94.837560</td>\n",
       "      <td>100.128412</td>\n",
       "      <td>105.030663</td>\n",
       "      <td>100.128412</td>\n",
       "      <td>110.101146</td>\n",
       "      <td>99.988587</td>\n",
       "      <td>105.265123</td>\n",
       "      <td>99.988587</td>\n",
       "      <td>115.073087</td>\n",
       "      <td>99.988587</td>\n",
       "    </tr>\n",
       "    <tr>\n",
       "      <th>4</th>\n",
       "      <td>100.170700</td>\n",
       "      <td>99.906421</td>\n",
       "      <td>95.312364</td>\n",
       "      <td>99.906421</td>\n",
       "      <td>105.125633</td>\n",
       "      <td>99.906421</td>\n",
       "      <td>110.178668</td>\n",
       "      <td>99.755326</td>\n",
       "      <td>105.189726</td>\n",
       "      <td>99.755326</td>\n",
       "      <td>114.996366</td>\n",
       "      <td>99.755326</td>\n",
       "    </tr>\n",
       "  </tbody>\n",
       "</table>\n",
       "</div>"
      ],
      "text/plain": [
       "   left_mid_x  left_mid_y  left_inner_x  left_inner_y  left_outer_x  \\\n",
       "0  100.074164   99.752008     95.163949     99.752008    104.909682   \n",
       "1   99.910565   99.931781     95.068107     99.931781    104.818702   \n",
       "2  100.060091  100.137970     94.961230    100.137970    105.023174   \n",
       "3   99.903180  100.128412     94.837560    100.128412    105.030663   \n",
       "4  100.170700   99.906421     95.312364     99.906421    105.125633   \n",
       "\n",
       "   left_outer_y  right_mid_x  right_mid_y  right_inner_x  right_inner_y  \\\n",
       "0     99.752008   110.015772    99.869446     104.914795      99.869446   \n",
       "1     99.931781   109.925951   100.111423     105.016521     100.111423   \n",
       "2    100.137970   109.975893   100.100347     104.868243     100.100347   \n",
       "3    100.128412   110.101146    99.988587     105.265123      99.988587   \n",
       "4     99.906421   110.178668    99.755326     105.189726      99.755326   \n",
       "\n",
       "   right_outer_x  right_outer_y  \n",
       "0     115.255582      99.869446  \n",
       "1     115.048391     100.111423  \n",
       "2     115.029552     100.100347  \n",
       "3     115.073087      99.988587  \n",
       "4     114.996366      99.755326  "
      ]
     },
     "execution_count": 9,
     "metadata": {},
     "output_type": "execute_result"
    }
   ],
   "source": [
    "import pandas as pd\n",
    "\n",
    "df = pd.read_csv(\"data/raw/mtbi_sample.csv\")\n",
    "df.head()"
   ]
  },
  {
   "cell_type": "code",
   "execution_count": 12,
   "id": "0c9ed7cd",
   "metadata": {},
   "outputs": [],
   "source": [
    "norm_distances = []\n",
    "\n",
    "for i, row in df.iterrows():\n",
    "    left_mid = (row[\"left_mid_x\"], row[\"left_mid_y\"])\n",
    "    right_mid = (row[\"right_mid_x\"], row[\"right_mid_y\"])\n",
    "\n",
    "    left_inner = (row[\"left_inner_x\"], row[\"left_inner_y\"])\n",
    "    left_outer = (row[\"left_outer_x\"], row[\"left_outer_y\"])\n",
    "    right_inner = (row[\"right_inner_x\"], row[\"right_inner_y\"])\n",
    "    right_outer = (row[\"right_outer_x\"], row[\"right_outer_y\"])\n",
    "\n",
    "    inter = compute_inter_iris_distance(left_mid, right_mid)\n",
    "    avg_diameter = compute_average_diameter(left_inner, left_outer, right_inner, right_outer)\n",
    "    norm = normalise_distance(inter, avg_diameter)\n",
    "\n",
    "if norm is not None:\n",
    "    norm_distances.append(norm)\n",
    "\n",
    "# Remove any invalid values\n",
    "norm_distances = [x for x in norm_distances if pd.notna(x)]"
   ]
  },
  {
   "cell_type": "code",
   "execution_count": 13,
   "id": "6709302c",
   "metadata": {},
   "outputs": [
    {
     "name": "stdout",
     "output_type": "stream",
     "text": [
      "Standard deviation: 0.0000\n",
      "No mTBI detected\n"
     ]
    }
   ],
   "source": [
    "std_dev = compute_time_series_std(norm_distances)\n",
    "is_mtbi = flag_mTBI(std_dev)\n",
    "\n",
    "print(f\"Standard deviation: {std_dev:.4f}\")\n",
    "print(\"You may possibly have a mTBI\" if is_mtbi else \"No mTBI detected\")"
   ]
  }
 ],
 "metadata": {
  "kernelspec": {
   "display_name": ".venv",
   "language": "python",
   "name": "python3"
  },
  "language_info": {
   "codemirror_mode": {
    "name": "ipython",
    "version": 3
   },
   "file_extension": ".py",
   "mimetype": "text/x-python",
   "name": "python",
   "nbconvert_exporter": "python",
   "pygments_lexer": "ipython3",
   "version": "3.12.3"
  }
 },
 "nbformat": 4,
 "nbformat_minor": 5
}
