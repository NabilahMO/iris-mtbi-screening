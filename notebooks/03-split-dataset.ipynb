{
 "cells": [
  {
   "cell_type": "code",
   "execution_count": 6,
   "id": "596535be",
   "metadata": {},
   "outputs": [],
   "source": [
    "import sys\n",
    "import os\n",
    "\n",
    "# Add the src/ folder to Python's import path\n",
    "src_path = os.path.abspath(os.path.join(\"..\", \"src\"))\n",
    "if src_path not in sys.path:\n",
    "    sys.path.append(src_path)\n",
    "    \n",
    "import pandas as pd\n",
    "\n",
    "\n",
    "def split_csv_by_rows(input_path, output_dir, rows_per_chunk=30, label=\"control\"):\n",
    "    \"\"\"\n",
    "    Splits a large CSV into smaller files with `rows_per_chunk` rows each.\n",
    "    Saves them in `output_dir` with a label prefix.\n",
    "    \"\"\"\n",
    "    os.makedirs(output_dir, exist_ok=True)\n",
    "    df = pd.read_csv(input_path)\n",
    "\n",
    "    total_rows = len(df)\n",
    "    num_chunks = total_rows // rows_per_chunk\n",
    "\n",
    "    for i in range(num_chunks):\n",
    "        chunk = df.iloc[i * rows_per_chunk : (i + 1) * rows_per_chunk]\n",
    "        output_path = os.path.join(output_dir, f\"{label}_sample_{i}.csv\")\n",
    "        chunk.to_csv(output_path, index=False)\n",
    "\n",
    "    print(f\"✅ Split into {num_chunks} chunks in '{output_dir}'\")"
   ]
  },
  {
   "cell_type": "code",
   "execution_count": 7,
   "id": "6d60ca43",
   "metadata": {},
   "outputs": [
    {
     "name": "stdout",
     "output_type": "stream",
     "text": [
      "✅ Split into 150 chunks in 'data/raw/split'\n",
      "✅ Split into 150 chunks in 'data/raw/split'\n"
     ]
    }
   ],
   "source": [
    "split_csv_by_rows(\"data/raw/control_sample.csv\", \"data/raw/split\", rows_per_chunk=1, label=\"control\")\n",
    "split_csv_by_rows(\"data/raw/mtbi_sample.csv\", \"data/raw/split\", rows_per_chunk=1, label=\"mtbi\")"
   ]
  }
 ],
 "metadata": {
  "kernelspec": {
   "display_name": "Python 3",
   "language": "python",
   "name": "python3"
  },
  "language_info": {
   "codemirror_mode": {
    "name": "ipython",
    "version": 3
   },
   "file_extension": ".py",
   "mimetype": "text/x-python",
   "name": "python",
   "nbconvert_exporter": "python",
   "pygments_lexer": "ipython3",
   "version": "3.12.1"
  }
 },
 "nbformat": 4,
 "nbformat_minor": 5
}
